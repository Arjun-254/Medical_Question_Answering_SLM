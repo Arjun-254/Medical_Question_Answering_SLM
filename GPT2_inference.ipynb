{
 "cells": [
  {
   "cell_type": "code",
   "execution_count": 1,
   "metadata": {},
   "outputs": [
    {
     "name": "stderr",
     "output_type": "stream",
     "text": [
      "/opt/homebrew/lib/python3.11/site-packages/tqdm/auto.py:21: TqdmWarning: IProgress not found. Please update jupyter and ipywidgets. See https://ipywidgets.readthedocs.io/en/stable/user_install.html\n",
      "  from .autonotebook import tqdm as notebook_tqdm\n"
     ]
    }
   ],
   "source": [
    "from transformers import PreTrainedTokenizerFast, GPT2LMHeadModel, GPT2TokenizerFast, GPT2Tokenizer\n",
    "import textwrap\n",
    "from pprint import pprint"
   ]
  },
  {
   "cell_type": "code",
   "execution_count": 7,
   "metadata": {},
   "outputs": [],
   "source": [
    "def load_model(model_path):\n",
    "    model = GPT2LMHeadModel.from_pretrained(model_path)\n",
    "    return model\n",
    "\n",
    "\n",
    "def load_tokenizer(tokenizer_path):\n",
    "    tokenizer = GPT2Tokenizer.from_pretrained(tokenizer_path)\n",
    "    return tokenizer\n",
    "\n",
    "\n",
    "def generate_text(sequence, max_length):\n",
    "    model_path = \"GPT2_Model\" #too large to push to github\n",
    "    model = load_model(model_path)\n",
    "    tokenizer = load_tokenizer(model_path)\n",
    "    ids = tokenizer.encode(f'{sequence}', return_tensors='pt')\n",
    "    final_outputs = model.generate(\n",
    "        ids,\n",
    "        do_sample=True, #false to make outputs more deterministic\n",
    "        max_length=max_length,\n",
    "        pad_token_id=model.config.eos_token_id,\n",
    "        top_k=50, # Consider only the top 50 most probable next tokens\n",
    "        top_p=0.95, #Nucleus sampling probability \n",
    "    )\n",
    "    return (tokenizer.decode(final_outputs[0], skip_special_tokens=True))"
   ]
  },
  {
   "cell_type": "code",
   "execution_count": 8,
   "metadata": {},
   "outputs": [],
   "source": [
    "def inference(sequence):\n",
    "    max_len = int(128) #max output tokens length\n",
    "    text = generate_text(sequence, max_len)\n",
    "    wrapped_text = textwrap.fill(text, width=80)\n",
    "    print(wrapped_text)"
   ]
  },
  {
   "cell_type": "code",
   "execution_count": 13,
   "metadata": {},
   "outputs": [
    {
     "name": "stdout",
     "output_type": "stream",
     "text": [
      "What is (are) Leukemia?Leukemia is a very rare disorder, occurring very rarely\n",
      "in newborns and infants.  People with Leukemia typically start to develop\n",
      "symptoms and symptoms within a year or two. During the first year, many people\n",
      "with the disease do not develop symptoms; however, some develop symptoms and\n",
      "others develop symptoms. How many people are affected by Leukemia?Leukemia is\n",
      "estimated to affect 1 in 500,000 newborns and infants, and the incidence is\n",
      "unknown. What are the genetic changes related to Leukemia?Leukemia and its\n",
      "related disorders are caused by mutations in an abnormal gene called GUT\n"
     ]
    }
   ],
   "source": [
    "inference('What is (are) Leukemia ?')"
   ]
  },
  {
   "cell_type": "code",
   "execution_count": 18,
   "metadata": {},
   "outputs": [
    {
     "name": "stdout",
     "output_type": "stream",
     "text": [
      "What is High Blood Pressure? High blood pressure (HP) occurs when your blood\n",
      "pressure rises above your normal range. Your heart rate slows as it beats. What\n",
      "causes High Blood Pressure? Low blood pressure may be inherited in an autosomal\n",
      "dominant pattern (a recessive pattern of inheritance). This condition occurs\n",
      "when abnormal blood vessels form between your arteries and are blocked. These\n",
      "abnormal blood vessels create a buildup of dangerous buildup of dangerous plaque\n",
      "(plaqueous plaque). As the plaque buildup becomes abnormal (as it can in the\n",
      "arteries, causing damage to your organs and bones), the resulting strokes also\n",
      "lead to a buildup of blood in your blood vessels\n"
     ]
    }
   ],
   "source": [
    "inference('What is High Blood Pressure?')"
   ]
  },
  {
   "cell_type": "code",
   "execution_count": 19,
   "metadata": {},
   "outputs": [
    {
     "name": "stdout",
     "output_type": "stream",
     "text": [
      "What are the signs of Depression?Signs of Depression are often described in\n",
      "terms of symptoms. There are three types of signs of Depression. The first type\n",
      "is simple:                - Anxiety, depression, and depression usually appear\n",
      "early in life, after childhood, when the person is feeling stressed.\n",
      "- Anxiety may be present at any time during any given day, although it occurs\n",
      "more or less frequently during infancy and childhood.\n"
     ]
    }
   ],
   "source": [
    "inference('What are the signs of Depression ?')"
   ]
  }
 ],
 "metadata": {
  "kernelspec": {
   "display_name": "Python 3",
   "language": "python",
   "name": "python3"
  },
  "language_info": {
   "codemirror_mode": {
    "name": "ipython",
    "version": 3
   },
   "file_extension": ".py",
   "mimetype": "text/x-python",
   "name": "python",
   "nbconvert_exporter": "python",
   "pygments_lexer": "ipython3",
   "version": "3.11.8"
  }
 },
 "nbformat": 4,
 "nbformat_minor": 2
}
