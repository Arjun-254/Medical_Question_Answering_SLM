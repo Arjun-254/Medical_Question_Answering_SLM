{
 "cells": [
  {
   "cell_type": "code",
   "execution_count": 1,
   "metadata": {},
   "outputs": [
    {
     "name": "stderr",
     "output_type": "stream",
     "text": [
      "/opt/homebrew/lib/python3.11/site-packages/tqdm/auto.py:21: TqdmWarning: IProgress not found. Please update jupyter and ipywidgets. See https://ipywidgets.readthedocs.io/en/stable/user_install.html\n",
      "  from .autonotebook import tqdm as notebook_tqdm\n"
     ]
    }
   ],
   "source": [
    "from mlx_lm import load, generate\n",
    "import pandas as pd\n",
    "import numpy as np\n",
    "import textwrap\n",
    "from pprint import pprint"
   ]
  },
  {
   "cell_type": "code",
   "execution_count": 2,
   "metadata": {},
   "outputs": [],
   "source": [
    "import os\n",
    "os.environ[\"TOKENIZERS_PARALLELISM\"] = \"false\""
   ]
  },
  {
   "cell_type": "code",
   "execution_count": 72,
   "metadata": {},
   "outputs": [
    {
     "name": "stderr",
     "output_type": "stream",
     "text": [
      "Fetching 6 files: 100%|██████████| 6/6 [00:00<00:00, 49152.00it/s]\n"
     ]
    }
   ],
   "source": [
    "model, tokenizer = load(\"mlx-community/quantized-gemma-2b\")"
   ]
  },
  {
   "cell_type": "code",
   "execution_count": 75,
   "metadata": {},
   "outputs": [
    {
     "name": "stdout",
     "output_type": "stream",
     "text": [
      "==========\n",
      "Prompt: What is a Glaucoma\n",
      "?\n",
      "\n",
      "Glaucoma is a condition that affects the optic nerve, which is the nerve that transmits information from the eye to the brain. The optic nerve is located in the back of the eye and transmits information from the retina to the brain. The retina is the light sensitive layer of tissue that lines the back of the eye.\n",
      "\n",
      "Glaucoma is a condition that affects the optic nerve and causes it to become damaged. This damage can cause vision loss and other problems. Glaucoma is a common condition that affects people of all ages. It is usually caused by a build-up of fluid in the eye, which can cause pressure on\n",
      "==========\n",
      "Prompt: 71.798 tokens-per-sec\n",
      "Generation: 123.945 tokens-per-sec\n"
     ]
    }
   ],
   "source": [
    "response = generate(model, tokenizer, prompt=\"What is a Glaucoma\",verbose=True,max_tokens=128)"
   ]
  },
  {
   "cell_type": "code",
   "execution_count": 5,
   "metadata": {},
   "outputs": [
    {
     "data": {
      "text/html": [
       "<div>\n",
       "<style scoped>\n",
       "    .dataframe tbody tr th:only-of-type {\n",
       "        vertical-align: middle;\n",
       "    }\n",
       "\n",
       "    .dataframe tbody tr th {\n",
       "        vertical-align: top;\n",
       "    }\n",
       "\n",
       "    .dataframe thead th {\n",
       "        text-align: right;\n",
       "    }\n",
       "</style>\n",
       "<table border=\"1\" class=\"dataframe\">\n",
       "  <thead>\n",
       "    <tr style=\"text-align: right;\">\n",
       "      <th></th>\n",
       "      <th>question</th>\n",
       "      <th>answer</th>\n",
       "    </tr>\n",
       "  </thead>\n",
       "  <tbody>\n",
       "    <tr>\n",
       "      <th>0</th>\n",
       "      <td>What is (are) Glaucoma ?</td>\n",
       "      <td>Glaucoma is a group of diseases that can damag...</td>\n",
       "    </tr>\n",
       "    <tr>\n",
       "      <th>1</th>\n",
       "      <td>What is (are) Glaucoma ?</td>\n",
       "      <td>The optic nerve is a bundle of more than 1 mil...</td>\n",
       "    </tr>\n",
       "    <tr>\n",
       "      <th>2</th>\n",
       "      <td>What is (are) Glaucoma ?</td>\n",
       "      <td>Open-angle glaucoma is the most common form of...</td>\n",
       "    </tr>\n",
       "    <tr>\n",
       "      <th>3</th>\n",
       "      <td>Who is at risk for Glaucoma? ?</td>\n",
       "      <td>Anyone can develop glaucoma. Some people are a...</td>\n",
       "    </tr>\n",
       "    <tr>\n",
       "      <th>4</th>\n",
       "      <td>How to prevent Glaucoma ?</td>\n",
       "      <td>At this time, we do not know how to prevent gl...</td>\n",
       "    </tr>\n",
       "  </tbody>\n",
       "</table>\n",
       "</div>"
      ],
      "text/plain": [
       "                         question  \\\n",
       "0        What is (are) Glaucoma ?   \n",
       "1        What is (are) Glaucoma ?   \n",
       "2        What is (are) Glaucoma ?   \n",
       "3  Who is at risk for Glaucoma? ?   \n",
       "4       How to prevent Glaucoma ?   \n",
       "\n",
       "                                              answer  \n",
       "0  Glaucoma is a group of diseases that can damag...  \n",
       "1  The optic nerve is a bundle of more than 1 mil...  \n",
       "2  Open-angle glaucoma is the most common form of...  \n",
       "3  Anyone can develop glaucoma. Some people are a...  \n",
       "4  At this time, we do not know how to prevent gl...  "
      ]
     },
     "execution_count": 5,
     "metadata": {},
     "output_type": "execute_result"
    }
   ],
   "source": [
    "df = pd.read_csv('intern_screening_dataset.csv')\n",
    "df.head()"
   ]
  },
  {
   "cell_type": "markdown",
   "metadata": {},
   "source": [
    "## Formatting promp to match what Gemma was trained on:\n",
    "\n",
    "` {\"text\": \"<bos><start_of_turn>user\\nWhat are the symptoms of Glaucoma?<end_of_turn>\\n<start_of_turn>model\\nGlaucoma symptoms include blurred vision, eye pain, headache andnausea.<end_of_turn><eos>\"} `"
   ]
  },
  {
   "cell_type": "code",
   "execution_count": 6,
   "metadata": {},
   "outputs": [
    {
     "name": "stdout",
     "output_type": "stream",
     "text": [
      "<bos><start_of_turn>user\n",
      "## User\n",
      "What is (are) Glaucoma ?<end_of_turn>\n",
      "<start_of_turn>model\n",
      "Glaucoma is a group of diseases that can damage the eye's optic nerve and result in vision loss and blindness. The most common form of the disease is open-angle glaucoma. With early treatment, you can often protect your eyes against serious vision loss. (Watch the video to learn more about glaucoma. To enlarge the video, click the brackets in the lower right-hand corner. To reduce the video, press the Escape (Esc) button on your keyboard.)  See this graphic for a quick overview of glaucoma, including how many people it affects, whos at risk, what to do if you have it, and how to learn more.  See a glossary of glaucoma terms.<end_of_turn><eos>\n"
     ]
    }
   ],
   "source": [
    "#To format into an input gemma can understand better\n",
    "def generate_prompt(row: pd.Series) -> str: \n",
    "    return \"\"\"<bos><start_of_turn>user\n",
    "## User\n",
    "{}<end_of_turn>\n",
    "<start_of_turn>model\n",
    "{}<end_of_turn><eos>\"\"\".format(row[\"question\"], row[\"answer\"])\n",
    "\n",
    "\n",
    "df[\"text\"] = df.apply(generate_prompt, axis=1)\n",
    "\n",
    "#Example model training input\n",
    "print(df[\"text\"].iloc[0])"
   ]
  },
  {
   "cell_type": "markdown",
   "metadata": {},
   "source": [
    "Saving data in two separate jsonl formatted files to feed into LORA training"
   ]
  },
  {
   "cell_type": "code",
   "execution_count": 12,
   "metadata": {},
   "outputs": [
    {
     "name": "stdout",
     "output_type": "stream",
     "text": [
      "{\"text\":\"<bos><start_of_turn>user\\n## User\\nIs Juvenile Huntington disease inherited ?<end_of_turn>\\n<start_of_turn>model\\nHow is Juvenile Huntington disease (HD) inherited? Juvenile HD is inherited in an autosomal dominant manner, which means that one copy of the altered gene in each cell is sufficient to cause the disorder. An affected person usually inherits the altered gene from one affected parent. As the altered HTT gene is passed from one generation to the next, the size of the CAG trinucleotide repeat often increases in size. A larger number of repeats is usually associated with an earlier onset of signs and symptoms (anticipation). A larger number of repeats is usually associated with an earlier onset of signs and symptoms. Most often, children with juvenile HD inherit the expanded CAG trinucleotide repeat from their fathers, although on occasion they inherit it from their mothers.<end_of_turn><eos>\"}\n"
     ]
    }
   ],
   "source": [
    "from pathlib import Path\n",
    "\n",
    "Path(\"data\").mkdir(exist_ok=True)\n",
    "\n",
    "split_ix = int(len(df) * 0.9)\n",
    "# shuffle data\n",
    "data = df.sample(frac=1, random_state=42)\n",
    "train, valid = data[:split_ix], data[split_ix:]\n",
    "\n",
    "train[[\"text\"]].to_json(\"data/train.jsonl\", orient=\"records\", lines=True, force_ascii=False)\n",
    "valid[[\"text\"]].to_json(\"data/valid.jsonl\", orient=\"records\", lines=True, force_ascii=False)\n",
    "\n",
    "!head -n 1 data/train.jsonl"
   ]
  },
  {
   "cell_type": "markdown",
   "metadata": {},
   "source": [
    "## Using MLX LORA to fine tune quantized-gemma-2b on our medical datatset"
   ]
  },
  {
   "cell_type": "code",
   "execution_count": 13,
   "metadata": {},
   "outputs": [
    {
     "name": "stdout",
     "output_type": "stream",
     "text": [
      "Loading pretrained model\n",
      "Fetching 6 files: 100%|████████████████████████| 6/6 [00:00<00:00, 71493.82it/s]\n",
      "Loading datasets\n",
      "Training\n",
      "Trainable parameters: 0.008% (0.205M/2506.172M)\n",
      "Starting training..., iters: 600\n",
      "Iter 1: Val loss 2.247, Val took 4.935s\n",
      "Iter 10: Train loss 2.416, Learning Rate 1.000e-05, It/sec 3.374, Tokens/sec 875.431, Trained Tokens 2595, Peak mem 5.258 GB\n",
      "Iter 20: Train loss 2.365, Learning Rate 1.000e-05, It/sec 2.583, Tokens/sec 757.246, Trained Tokens 5527, Peak mem 6.076 GB\n",
      "Iter 30: Train loss 2.262, Learning Rate 1.000e-05, It/sec 2.183, Tokens/sec 804.974, Trained Tokens 9214, Peak mem 7.665 GB\n",
      "Iter 40: Train loss 2.306, Learning Rate 1.000e-05, It/sec 3.489, Tokens/sec 750.558, Trained Tokens 11365, Peak mem 7.665 GB\n",
      "Iter 50: Train loss 2.138, Learning Rate 1.000e-05, It/sec 2.419, Tokens/sec 787.714, Trained Tokens 14621, Peak mem 8.561 GB\n",
      "Iter 60: Train loss 2.298, Learning Rate 1.000e-05, It/sec 2.407, Tokens/sec 791.520, Trained Tokens 17909, Peak mem 8.561 GB\n",
      "Iter 70: Train loss 2.269, Learning Rate 1.000e-05, It/sec 3.618, Tokens/sec 735.236, Trained Tokens 19941, Peak mem 8.561 GB\n",
      "[WARNING] Some sequences are longer than 2048 tokens. The longest sentence 2855 will be truncated to 2048. Consider pre-splitting your data to save memory.\n",
      "Iter 80: Train loss 2.074, Learning Rate 1.000e-05, It/sec 1.333, Tokens/sec 764.902, Trained Tokens 25679, Peak mem 15.838 GB\n",
      "Iter 90: Train loss 2.140, Learning Rate 1.000e-05, It/sec 3.154, Tokens/sec 734.029, Trained Tokens 28006, Peak mem 15.838 GB\n",
      "Iter 100: Train loss 2.162, Learning Rate 1.000e-05, It/sec 1.895, Tokens/sec 771.584, Trained Tokens 32077, Peak mem 15.838 GB\n",
      "Iter 100: Saved adapter weights to adapters/adapters.safetensors and adapters/0000100_adapters.safetensors.\n",
      "Iter 110: Train loss 2.035, Learning Rate 1.000e-05, It/sec 1.953, Tokens/sec 743.841, Trained Tokens 35886, Peak mem 15.838 GB\n",
      "Iter 120: Train loss 2.057, Learning Rate 1.000e-05, It/sec 1.754, Tokens/sec 740.555, Trained Tokens 40107, Peak mem 15.838 GB\n",
      "Iter 130: Train loss 2.156, Learning Rate 1.000e-05, It/sec 2.466, Tokens/sec 706.133, Trained Tokens 42970, Peak mem 15.838 GB\n",
      "Iter 140: Train loss 1.891, Learning Rate 1.000e-05, It/sec 2.754, Tokens/sec 715.894, Trained Tokens 45569, Peak mem 15.838 GB\n",
      "Iter 150: Train loss 1.997, Learning Rate 1.000e-05, It/sec 1.839, Tokens/sec 746.935, Trained Tokens 49630, Peak mem 15.838 GB\n",
      "Iter 160: Train loss 2.064, Learning Rate 1.000e-05, It/sec 3.170, Tokens/sec 672.094, Trained Tokens 51750, Peak mem 15.838 GB\n",
      "Iter 170: Train loss 1.961, Learning Rate 1.000e-05, It/sec 2.663, Tokens/sec 717.066, Trained Tokens 54443, Peak mem 15.838 GB\n",
      "Iter 180: Train loss 1.962, Learning Rate 1.000e-05, It/sec 2.128, Tokens/sec 736.339, Trained Tokens 57903, Peak mem 15.838 GB\n",
      "Iter 190: Train loss 1.931, Learning Rate 1.000e-05, It/sec 2.188, Tokens/sec 676.299, Trained Tokens 60994, Peak mem 15.838 GB\n",
      "Iter 200: Val loss 1.813, Val took 7.531s\n",
      "Iter 200: Train loss 1.913, Learning Rate 1.000e-05, It/sec 16.713, Tokens/sec 4049.609, Trained Tokens 63417, Peak mem 15.838 GB\n",
      "Iter 200: Saved adapter weights to adapters/adapters.safetensors and adapters/0000200_adapters.safetensors.\n",
      "Iter 210: Train loss 1.886, Learning Rate 1.000e-05, It/sec 2.012, Tokens/sec 729.840, Trained Tokens 67045, Peak mem 15.838 GB\n",
      "[WARNING] Some sequences are longer than 2048 tokens. The longest sentence 2074 will be truncated to 2048. Consider pre-splitting your data to save memory.\n",
      "Iter 220: Train loss 1.764, Learning Rate 1.000e-05, It/sec 1.374, Tokens/sec 740.225, Trained Tokens 72434, Peak mem 15.838 GB\n",
      "[WARNING] Some sequences are longer than 2048 tokens. The longest sentence 5652 will be truncated to 2048. Consider pre-splitting your data to save memory.\n",
      "Iter 230: Train loss 1.870, Learning Rate 1.000e-05, It/sec 1.705, Tokens/sec 746.101, Trained Tokens 76811, Peak mem 16.150 GB\n",
      "Iter 240: Train loss 1.713, Learning Rate 1.000e-05, It/sec 2.836, Tokens/sec 698.517, Trained Tokens 79274, Peak mem 16.150 GB\n",
      "Iter 250: Train loss 1.851, Learning Rate 1.000e-05, It/sec 3.123, Tokens/sec 672.304, Trained Tokens 81427, Peak mem 16.150 GB\n",
      "Iter 260: Train loss 1.776, Learning Rate 1.000e-05, It/sec 2.557, Tokens/sec 722.171, Trained Tokens 84251, Peak mem 16.150 GB\n",
      "Iter 270: Train loss 1.912, Learning Rate 1.000e-05, It/sec 2.728, Tokens/sec 703.030, Trained Tokens 86828, Peak mem 16.150 GB\n",
      "Iter 280: Train loss 1.918, Learning Rate 1.000e-05, It/sec 2.495, Tokens/sec 709.386, Trained Tokens 89671, Peak mem 16.150 GB\n",
      "Iter 290: Train loss 1.900, Learning Rate 1.000e-05, It/sec 2.762, Tokens/sec 713.351, Trained Tokens 92254, Peak mem 16.150 GB\n",
      "[WARNING] Some sequences are longer than 2048 tokens. The longest sentence 4235 will be truncated to 2048. Consider pre-splitting your data to save memory.\n",
      "Iter 300: Train loss 1.646, Learning Rate 1.000e-05, It/sec 1.897, Tokens/sec 713.071, Trained Tokens 96012, Peak mem 16.150 GB\n",
      "Iter 300: Saved adapter weights to adapters/adapters.safetensors and adapters/0000300_adapters.safetensors.\n",
      "Iter 310: Train loss 1.891, Learning Rate 1.000e-05, It/sec 3.256, Tokens/sec 676.359, Trained Tokens 98089, Peak mem 16.150 GB\n",
      "Iter 320: Train loss 1.947, Learning Rate 1.000e-05, It/sec 1.705, Tokens/sec 746.348, Trained Tokens 102466, Peak mem 16.150 GB\n",
      "Iter 330: Train loss 1.762, Learning Rate 1.000e-05, It/sec 2.431, Tokens/sec 699.793, Trained Tokens 105345, Peak mem 16.150 GB\n",
      "Iter 340: Train loss 1.818, Learning Rate 1.000e-05, It/sec 2.028, Tokens/sec 714.261, Trained Tokens 108867, Peak mem 16.150 GB\n",
      "Iter 350: Train loss 1.718, Learning Rate 1.000e-05, It/sec 2.474, Tokens/sec 696.319, Trained Tokens 111681, Peak mem 16.150 GB\n",
      "Iter 360: Train loss 1.784, Learning Rate 1.000e-05, It/sec 2.644, Tokens/sec 703.284, Trained Tokens 114341, Peak mem 16.150 GB\n",
      "Iter 370: Train loss 1.796, Learning Rate 1.000e-05, It/sec 2.955, Tokens/sec 687.618, Trained Tokens 116668, Peak mem 16.150 GB\n",
      "Iter 380: Train loss 1.746, Learning Rate 1.000e-05, It/sec 1.878, Tokens/sec 717.931, Trained Tokens 120491, Peak mem 16.150 GB\n",
      "Iter 390: Train loss 1.759, Learning Rate 1.000e-05, It/sec 2.429, Tokens/sec 695.775, Trained Tokens 123355, Peak mem 16.150 GB\n",
      "Iter 400: Val loss 1.708, Val took 7.605s\n",
      "Iter 400: Train loss 1.923, Learning Rate 1.000e-05, It/sec 19.263, Tokens/sec 6526.467, Trained Tokens 126743, Peak mem 16.150 GB\n",
      "Iter 400: Saved adapter weights to adapters/adapters.safetensors and adapters/0000400_adapters.safetensors.\n",
      "Iter 410: Train loss 1.741, Learning Rate 1.000e-05, It/sec 2.045, Tokens/sec 710.756, Trained Tokens 130219, Peak mem 16.150 GB\n",
      "Iter 420: Train loss 1.723, Learning Rate 1.000e-05, It/sec 2.236, Tokens/sec 707.978, Trained Tokens 133385, Peak mem 16.150 GB\n",
      "Iter 430: Train loss 1.651, Learning Rate 1.000e-05, It/sec 3.412, Tokens/sec 651.688, Trained Tokens 135295, Peak mem 16.150 GB\n",
      "Iter 440: Train loss 1.686, Learning Rate 1.000e-05, It/sec 1.949, Tokens/sec 708.494, Trained Tokens 138930, Peak mem 16.150 GB\n",
      "[WARNING] Some sequences are longer than 2048 tokens. The longest sentence 3362 will be truncated to 2048. Consider pre-splitting your data to save memory.\n",
      "Iter 450: Train loss 1.702, Learning Rate 1.000e-05, It/sec 1.756, Tokens/sec 710.647, Trained Tokens 142976, Peak mem 16.150 GB\n",
      "Iter 460: Train loss 1.818, Learning Rate 1.000e-05, It/sec 2.607, Tokens/sec 715.822, Trained Tokens 145722, Peak mem 16.150 GB\n",
      "Iter 470: Train loss 1.653, Learning Rate 1.000e-05, It/sec 1.792, Tokens/sec 724.201, Trained Tokens 149764, Peak mem 16.150 GB\n",
      "Iter 480: Train loss 1.623, Learning Rate 1.000e-05, It/sec 2.255, Tokens/sec 723.294, Trained Tokens 152972, Peak mem 16.150 GB\n",
      "Iter 490: Train loss 1.763, Learning Rate 1.000e-05, It/sec 3.003, Tokens/sec 661.257, Trained Tokens 155174, Peak mem 16.150 GB\n",
      "Iter 500: Train loss 1.643, Learning Rate 1.000e-05, It/sec 1.557, Tokens/sec 723.193, Trained Tokens 159820, Peak mem 16.150 GB\n",
      "Iter 500: Saved adapter weights to adapters/adapters.safetensors and adapters/0000500_adapters.safetensors.\n",
      "Iter 510: Train loss 1.787, Learning Rate 1.000e-05, It/sec 2.172, Tokens/sec 716.773, Trained Tokens 163120, Peak mem 16.150 GB\n",
      "Iter 520: Train loss 1.905, Learning Rate 1.000e-05, It/sec 2.721, Tokens/sec 678.084, Trained Tokens 165612, Peak mem 16.150 GB\n",
      "Iter 530: Train loss 1.813, Learning Rate 1.000e-05, It/sec 1.384, Tokens/sec 737.174, Trained Tokens 170940, Peak mem 16.150 GB\n",
      "Iter 540: Train loss 1.619, Learning Rate 1.000e-05, It/sec 3.283, Tokens/sec 670.066, Trained Tokens 172981, Peak mem 16.150 GB\n",
      "Iter 550: Train loss 1.694, Learning Rate 1.000e-05, It/sec 2.785, Tokens/sec 691.572, Trained Tokens 175464, Peak mem 16.150 GB\n",
      "Iter 560: Train loss 1.765, Learning Rate 1.000e-05, It/sec 2.583, Tokens/sec 661.383, Trained Tokens 178025, Peak mem 16.150 GB\n",
      "Iter 570: Train loss 1.802, Learning Rate 1.000e-05, It/sec 2.476, Tokens/sec 713.719, Trained Tokens 180908, Peak mem 16.150 GB\n",
      "Iter 580: Train loss 1.698, Learning Rate 1.000e-05, It/sec 2.564, Tokens/sec 696.946, Trained Tokens 183626, Peak mem 16.150 GB\n",
      "Iter 590: Train loss 1.689, Learning Rate 1.000e-05, It/sec 1.723, Tokens/sec 699.975, Trained Tokens 187688, Peak mem 16.150 GB\n",
      "Iter 600: Val loss 1.637, Val took 7.010s\n",
      "Iter 600: Train loss 1.547, Learning Rate 1.000e-05, It/sec 19.317, Tokens/sec 4833.179, Trained Tokens 190190, Peak mem 16.150 GB\n",
      "Iter 600: Saved adapter weights to adapters/adapters.safetensors and adapters/0000600_adapters.safetensors.\n",
      "Saved final adapter weights to adapters/adapters.safetensors.\n"
     ]
    }
   ],
   "source": [
    "!python3.11 -m mlx_lm.lora \\\n",
    "    --model mlx-community/quantized-gemma-2b \\\n",
    "    --train \\\n",
    "    --iters 600 \\\n",
    "    --data data \\\n",
    "    --batch-size 1 \\\n",
    "    --lora-layers 4 \\\n"
   ]
  },
  {
   "cell_type": "code",
   "execution_count": 8,
   "metadata": {},
   "outputs": [
    {
     "name": "stdout",
     "output_type": "stream",
     "text": [
      "Fetching 6 files: 100%|████████████████████████| 6/6 [00:00<00:00, 64693.63it/s]\n",
      "==========\n",
      "Prompt: What is (are) Glaucoma ?\n",
      " Glaucoma is a common eye condition that affects millions of people worldwide. It occurs when the optic nerve is damaged, usually due to high eye pressure. This can result in vision changes, such as blurred vision, halos around lights, and blind spots. Glaucoma is usually caused by an increase in eye pressure, which can be caused by a variety of factors, including age, race, family history, eye surgery, and eye trauma. While glaucoma can affect people of all ages, it is more common in people over the age of 50. This is because the optic nerve is especially susceptible to damage as we age.\n",
      "==========\n",
      "Prompt: 70.535 tokens-per-sec\n",
      "Generation: 117.065 tokens-per-sec\n"
     ]
    }
   ],
   "source": [
    "#command line prompt\n",
    "!python3.11 -m mlx_lm.generate --model \"mlx-community/quantized-gemma-2b\" \\\n",
    "               --adapter-path adapters \\\n",
    "               --max-tokens 128 \\\n",
    "               --prompt \"What is (are) Glaucoma ?\" \\\n",
    "#Final weights are saved in the adaptors directory"
   ]
  },
  {
   "cell_type": "code",
   "execution_count": 9,
   "metadata": {},
   "outputs": [
    {
     "name": "stderr",
     "output_type": "stream",
     "text": [
      "Fetching 6 files: 100%|██████████| 6/6 [00:00<00:00, 83330.54it/s]\n"
     ]
    }
   ],
   "source": [
    "model_lora, tokenizer = load(\n",
    "    \"mlx-community/quantized-gemma-2b\",\n",
    "    adapter_path=\"./adapters\", \n",
    ")\n",
    "#Final weights of finetuned model are saved in the adaptors directory"
   ]
  },
  {
   "cell_type": "code",
   "execution_count": 10,
   "metadata": {},
   "outputs": [],
   "source": [
    "def generate_output(prompt):\n",
    "    response = generate(model_lora, tokenizer, prompt=prompt,temp=0.5)\n",
    "    response = textwrap.fill(response, width=120)\n",
    "    print(response)\n",
    "    return "
   ]
  },
  {
   "cell_type": "code",
   "execution_count": 6,
   "metadata": {},
   "outputs": [
    {
     "name": "stdout",
     "output_type": "stream",
     "text": [
      " Glaucoma is a common eye condition that can cause vision loss or blindness if not treated. Glaucoma occurs when the\n",
      "optic nerve is damaged due to increased eye pressure. It is usually caused by a narrowing of the drainage canals in the\n",
      "eye. This condition is caused by an increase in eye pressure called intraocular pressure (IOP). Intraocular pressure is\n",
      "caused by several factors including aging, race, gender, lifestyle habits, and medical conditions. Intraocular pressure\n",
      "can increase due to aging, race, gender,\n"
     ]
    }
   ],
   "source": [
    "generate_output(\"What is Glaucoma ?\")"
   ]
  },
  {
   "cell_type": "code",
   "execution_count": 79,
   "metadata": {},
   "outputs": [
    {
     "name": "stdout",
     "output_type": "stream",
     "text": [
      " Leukemia is a cancer of the blood and bone marrow. It is a malignant tumor that originates in the bone marrow and\n",
      "spreads to the blood vessels. It is a rare disease that affects people of all ages, but it is more common in children\n",
      "and young adults. It is a disease that affects the bone marrow and blood cells. It is a disease that affects the bone\n",
      "marrow and blood cells. It is a disease that affects the bone marrow and blood cells. It is a disease that affects the\n"
     ]
    }
   ],
   "source": [
    "generate_output('What is Leukemia ?')"
   ]
  },
  {
   "cell_type": "code",
   "execution_count": 82,
   "metadata": {},
   "outputs": [
    {
     "name": "stdout",
     "output_type": "stream",
     "text": [
      " Diabetic Retinopathy is a condition that affects the blood vessels in the retina, the light-sensitive tissue at the\n",
      "back of the eye. Diabetic Retinopathy is a common complication of diabetes mellitus. Diabetic Retinopathy is a condition\n",
      "that affects the blood vessels in the retina, the light-sensitive tissue at the back of the eye. Diabetic Retinopathy is\n",
      "a common complication of diabetes mellitus. Diabetic Retinopathy is a condition that affects the blood vessels in the\n",
      "retina, the light-sensitive\n"
     ]
    }
   ],
   "source": [
    "generate_output('What is Diabetic Retinopathy ?')"
   ]
  },
  {
   "cell_type": "code",
   "execution_count": 88,
   "metadata": {},
   "outputs": [
    {
     "name": "stdout",
     "output_type": "stream",
     "text": [
      "? Depression affects people differently, but there are some common symptoms. If you have depression, you may experience\n",
      "changes in your sleep patterns, appetite, energy level, or concentration. Some people also experience unexplained\n",
      "physical symptoms such as headaches or stomach aches. Depression can also cause you to feel hopeless, helpless, or\n",
      "worthless. If you have depression, you may feel like you don't belong or that your life doesn't have meaning. Depression\n",
      "can also cause you to have suicidal thoughts or feelings. If\n"
     ]
    }
   ],
   "source": [
    "generate_output('What are the symptoms of depression')"
   ]
  },
  {
   "cell_type": "markdown",
   "metadata": {},
   "source": [
    "# Fusing Model Weights, Uploading to Hugging Face, and Performing Inference"
   ]
  },
  {
   "cell_type": "code",
   "execution_count": null,
   "metadata": {},
   "outputs": [],
   "source": [
    "!python3.11 -m mlx_lm.fuse \\\n",
    "    --model mlx-community/quantized-gemma-2b \\\n",
    "    --adapter-path adapters \\\n",
    "    --upload-repo Arjun24420/Medical-quantized-gemma-2b \\\n",
    "    --hf-path mlx-community/quantized-gemma-2b"
   ]
  },
  {
   "cell_type": "markdown",
   "metadata": {},
   "source": [
    "#Output\n",
    "Loading pretrained model\n",
    "Fetching 6 files: 100%|████████████████████████| 6/6 [00:00<00:00, 51254.22it/s]\n",
    "README.md: 100%|███████████████████████████████| 914/914 [00:00<00:00, 3.30MB/s]\n",
    "/opt/homebrew/lib/python3.11/site-packages/huggingface_hub/utils/_experimental.py:58: UserWarning: 'plan_multi_commits' is experimental and might be subject to breaking changes in the future. You can disable this warning by setting `HF_HUB_DISABLE_EXPERIMENTAL_WARNING=1` as environment variable.\n",
    "  warnings.warn(\n",
    "/opt/homebrew/lib/python3.11/site-packages/huggingface_hub/utils/_experimental.py:58: UserWarning: 'HfApi.create_commits_on_pr' is experimental and might be subject to breaking changes in the future. You can disable this warning by setting `HF_HUB_DISABLE_EXPERIMENTAL_WARNING=1` as environment variable.\n",
    "  warnings.warn(\n",
    "Will create 0 deletion commit(s) and 2 addition commit(s), totalling 7 atomic operations.\n",
    "Multi-commits strategy with ID 501436a069524ecb0b96f94115b3d686824b617f8774e082fdcbf502db68f8fc.\n",
    "New PR created: https://huggingface.co/Arjun24420/Medical-quantized-gemma-2b/discussions/1\n",
    "model.safetensors: 100%|███████████████████| 2.16G/2.16G [05:26<00:00, 6.63MB/s]\n",
    "  step ead2ff05886ee726132cbe44521298fd90fcc9fad3d5d1bf070a7e384819f23f completed (still 1 to go).\n",
    "tokenizer.json: 100%|██████████████████████| 17.5M/17.5M [00:02<00:00, 7.09MB/s]\n",
    "  step eb8be3356eaf08a4cc9f1a2ebec73e317af8934b08f50a53641a0722adac2778 completed (still 0 to go).\n",
    "All commits have been pushed.\n",
    "PR is now open for reviews.\n",
    "PR has been automatically merged (`merge_pr=True` was passed).\n",
    "Upload successful, go to https://huggingface.co/Arjun24420/Medical-quantized-gemma-2b for details."
   ]
  },
  {
   "cell_type": "code",
   "execution_count": 70,
   "metadata": {},
   "outputs": [],
   "source": [
    "#only available on my local machine as model was too big to push to github (Hugging face usage given below)\n",
    "fused_model, fused_tokenizer = load(\"./lora_fused_model/\") \n",
    "def generate_FusedModel_output(prompt):\n",
    "    response = generate(fused_model, fused_tokenizer, prompt=prompt,temp=0.9)\n",
    "    response = textwrap.fill(response, width=120)\n",
    "    print(response)\n",
    "    return "
   ]
  },
  {
   "cell_type": "code",
   "execution_count": 71,
   "metadata": {},
   "outputs": [
    {
     "name": "stdout",
     "output_type": "stream",
     "text": [
      "  Colorectal cancer is the third most common cancer for both genders. Most people have several genetic traits that place\n",
      "them at a higher risk of developing colorectal cancer. For example, several metabolic disorders are linked to a higher\n",
      "risk of colorectal cancer. These include:  * Inflammatory bowel disease * Genetic syndromes * Nutrient deficiencies *\n",
      "Metabolic disorders * Inherited genetic disorders  Other risk factors for colorectal cancer include:  * Obesity *\n",
      "Inactive lifestyle * Smoking * Diet rich in processed and\n"
     ]
    }
   ],
   "source": [
    "generate_FusedModel_output(\"Who is at risk of Colorectal Cancer \")"
   ]
  },
  {
   "cell_type": "markdown",
   "metadata": {},
   "source": [
    "## Hugging Face sample use"
   ]
  },
  {
   "cell_type": "code",
   "execution_count": 28,
   "metadata": {},
   "outputs": [
    {
     "name": "stderr",
     "output_type": "stream",
     "text": [
      "Fetching 6 files: 100%|██████████| 6/6 [00:00<00:00, 59353.36it/s]\n"
     ]
    }
   ],
   "source": [
    "from mlx_lm import load, generate\n",
    "\n",
    "model, tokenizer = load(\"Arjun24420/Medical-quantized-gemma-2b\")"
   ]
  },
  {
   "cell_type": "code",
   "execution_count": 60,
   "metadata": {},
   "outputs": [
    {
     "name": "stdout",
     "output_type": "stream",
     "text": [
      " and what causes it?  Glaucoma is a disease that affects the optic nerve in the eye. It is caused by the buildup of\n",
      "fluid in the eye. This causes the optic nerve to swell and eventually die. The loss of the optic nerve leads to vision\n",
      "loss.  What are the signs and symptoms of glaucoma? Glaucoma can cause a variety of symptoms. These include: • Blurred\n",
      "vision • Blindness • Frequent eye pain • Nausea and vomiting •\n"
     ]
    }
   ],
   "source": [
    "response = generate(model, tokenizer, prompt=\"What is glaucoma\",temp=0.5)\n",
    "response = textwrap.fill(response, width=120)\n",
    "print(response)"
   ]
  }
 ],
 "metadata": {
  "kernelspec": {
   "display_name": "Python 3",
   "language": "python",
   "name": "python3"
  },
  "language_info": {
   "codemirror_mode": {
    "name": "ipython",
    "version": 3
   },
   "file_extension": ".py",
   "mimetype": "text/x-python",
   "name": "python",
   "nbconvert_exporter": "python",
   "pygments_lexer": "ipython3",
   "version": "3.11.8"
  }
 },
 "nbformat": 4,
 "nbformat_minor": 2
}
